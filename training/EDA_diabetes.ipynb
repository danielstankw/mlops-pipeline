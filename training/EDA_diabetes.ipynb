{
 "cells": [
  {
   "cell_type": "code",
   "execution_count": 8,
   "id": "7edbb585-5b49-47f6-9424-7340f16ff92e",
   "metadata": {},
   "outputs": [],
   "source": [
    "import os \n",
    "import pandas as pd\n",
    "import numpy as np\n",
    "import optuna\n",
    "import xgboost as xgb\n",
    "import mlflow\n",
    "from mlflow.tracking import MlflowClient\n",
    "from mlflow.entities import ViewType\n",
    "import requests\n",
    "import zipfile\n",
    "import pickle\n",
    "\n",
    "from sklearn.pipeline import make_pipeline\n",
    "from sklearn.model_selection import train_test_split\n",
    "from sklearn.feature_extraction import DictVectorizer\n",
    "from sklearn.metrics import accuracy_score, classification_report, confusion_matrix, f1_score, recall_score, roc_auc_score, precision_score, average_precision_score\n",
    "\n",
    "from datetime import datetime\n",
    "import logging"
   ]
  },
  {
   "cell_type": "markdown",
   "id": "a028108f-9d09-4175-a91e-c55d6949f28a",
   "metadata": {},
   "source": [
    "### Frame the problem and look at the bigger picture\n",
    "Before rushing straight into modeling or looking at the data its important to take time to understand what are we trying to do. We will follow these steps:\n",
    "1. Define the objective in business terms\n",
    "2. Define how the solution will be used\n",
    "3. What are the current solutions?\n",
    "4. How should we frame the problem?\n",
    "5. How should we measure the performance?\n",
    "6. Is the performance measure aligned with business objective? - what is the minimum performance needed to reach business objective\n"
   ]
  },
  {
   "cell_type": "markdown",
   "id": "bc351de0-ad9a-4d49-8310-7bba4e955d04",
   "metadata": {},
   "source": [
    "1. Objective: To develop a predictive model that can accurately identify individuals who are at risk of developing diabetes based on their medical history and demographic information. This model aims to assist healthcare professionals in early diagnosis and intervention, potentially reducing the complications and costs associated with late-stage diabetes.\n",
    "2. The developed predictive model will be used by healthcare professionals and medical institutions to assess the risk of diabetes in patients\n",
    "3. Current solutions: risk assessment tools/ lab tests/ preventive screening.\n",
    "4. The problem can be framed as a **binary classification** problem where the model needs to classify individuals into two classes: those who are likely to develop diabetes (positive class) and those who are not (negative class), based on various medical and demographic features. It can also be framed as **anomaly detection** problem due to imbalance!\n",
    "5. Measure of performance: accuracy, precision, recall, f1 score, AUROC, and confusion matrix.\n",
    "6. Yes, we are looking for a model with high precision and recall that will be beneficial in a medical setting to minimize false positives and false negatives.\n",
    "7. We would like to minimize FP and FN, however there is a trade-off between those variables therefore we need to focus on one metric more than the other"
   ]
  },
  {
   "cell_type": "markdown",
   "id": "1e9fb8ea-89df-426b-9b1a-4359178bbc1c",
   "metadata": {},
   "source": [
    "### Key decision\n",
    "Minimizing False Positives (FP):\r\n",
    "Importance: Reducing unnecessary anxiety and medical interventions for those incorrectly identified as at risk.\r\n",
    "Scenario: When the cost and risk of unnecessary interventions are hig\n",
    "h- .\r\n",
    "Minimizing False Negatives (N):\r\n",
    "Importance: Ensuring that individuals who are at risk are correctly identified for early interventi\n",
    "on.\r\n",
    "Scenario: When the cost and risk of missing a true positive case are high, such as in serious diseases like diabetes where early intervention can prevent complications."
   ]
  },
  {
   "cell_type": "markdown",
   "id": "25685ce1-8569-4d8f-9292-6f383c95dd55",
   "metadata": {},
   "source": [
    "**Minimizing FN is more important in this case as missing a patient who is at risk can lead to serious complications.**"
   ]
  },
  {
   "cell_type": "markdown",
   "id": "b37dea20-4202-441f-862e-d8227fdbb376",
   "metadata": {},
   "source": [
    "### Setting Global Variables"
   ]
  },
  {
   "cell_type": "code",
   "execution_count": 3,
   "id": "4ce8b207-a296-4381-bf63-ab5c968e666d",
   "metadata": {},
   "outputs": [],
   "source": [
    "DATA_LINK = \"https://raw.githubusercontent.com/danielstankw/data-mlops/5d593d3e7ea9c19bb154a3eb5a8527ce88543a97/archive.zip\""
   ]
  },
  {
   "cell_type": "code",
   "execution_count": 9,
   "id": "df376cc3-a15b-4bea-90f5-d838187dd1e9",
   "metadata": {},
   "outputs": [],
   "source": [
    "logging.basicConfig(level=logging.INFO,\n",
    "            format='[%(asctime)s] {%(filename)s:%(lineno)d} %(levelname)s - %(message)s')"
   ]
  },
  {
   "cell_type": "markdown",
   "id": "5d4467b7-a385-452c-8738-e5e3edaafa68",
   "metadata": {},
   "source": [
    "### Downloading data from given `url` and return `pd.DataFrame`"
   ]
  },
  {
   "cell_type": "code",
   "execution_count": 14,
   "id": "d48cb0eb-681d-4836-8c5a-945018e44336",
   "metadata": {},
   "outputs": [],
   "source": [
    "def download_data(url: str) -> pd.DataFrame:\n",
    "    \"\"\"\n",
    "    Download data from a given URL, unzip it to data_dir folder, and return the data as a DataFrame.\n",
    "    \n",
    "    Parameters:\n",
    "    - url (str): The URL of the data to be downloaded.\n",
    "    \n",
    "    Returns:\n",
    "    - pd.DataFrame: The downloaded data as a DataFrame.\n",
    "    \"\"\"\n",
    "\n",
    "    data_dir = 'data'\n",
    "    \n",
    "    # Create 'data' directory if it doesn't exist\n",
    "    if not os.path.exists(data_dir):\n",
    "        logging.info(\"Creating data folder for storing data\") \n",
    "        os.makedirs(data_dir)\n",
    "\n",
    "    # Download the file\n",
    "    zip_path = os.path.join(data_dir, 'archive.zip')\n",
    "    response = requests.get(url)\n",
    "    with open(zip_path, 'wb') as file:\n",
    "        file.write(response.content)\n",
    "            \n",
    "    # Unzip the file into the 'data' directory\n",
    "    with zipfile.ZipFile(zip_path, 'r') as zip_ref:\n",
    "        zip_ref.extractall(data_dir)\n",
    "\n",
    "    # Remove the residual archive.zip file\n",
    "    os.remove(zip_path)\n",
    "\n",
    "    # Fetch the name of the .csv files\n",
    "    csv_files = [file for file in os.listdir(data_dir) if file.endswith('.csv')]\n",
    "    if not csv_files:\n",
    "        raise ValueError(\"No CSV files found in the downloaded data.\")\n",
    "    \n",
    "    # Read the first CSV file into a DataFrame\n",
    "    df = pd.read_csv(os.path.join(data_dir, csv_files[0]))\n",
    "    logging.info(\"Data downloaded and saved to: %s\", os.path.join(data_dir, csv_files[0])) \n",
    "\n",
    "\n",
    "    return df"
   ]
  },
  {
   "cell_type": "code",
   "execution_count": 15,
   "id": "7df5265c-96c5-4239-9fec-109b8ac16ea4",
   "metadata": {},
   "outputs": [
    {
     "name": "stderr",
     "output_type": "stream",
     "text": [
      "[2023-09-22 12:51:49,512] {277603336.py:39} INFO - Data downloaded and saved to: data/diabetes_prediction_dataset.csv\n"
     ]
    }
   ],
   "source": [
    "df_original = download_data(url=DATA_LINK)\n",
    "df = df_original.copy()"
   ]
  },
  {
   "cell_type": "markdown",
   "id": "4de7dd25-d2a9-4a2f-9b54-8f714858bdcd",
   "metadata": {},
   "source": [
    "# EDA\n",
    "In this step, we will study the attributes and characteristics:\n",
    "1. Name\n",
    "2. Type\n",
    "3. % of missing values\n",
    "4. Noisiness of data\n",
    "5. Usefullnes of data for the task\n",
    "6. Type of distribution\n",
    "\n",
    "Additionally, we will:\n",
    "1. Identify the target attribute\n",
    "2. Visualize the data\n",
    "3. Study the correlation between features\n",
    "4. Identify promising transformations to be applied on the data\n",
    "\n",
    "And Summarize"
   ]
  },
  {
   "cell_type": "code",
   "execution_count": 19,
   "id": "949187e1-5d9f-4bfc-b446-3e6182bd76ca",
   "metadata": {},
   "outputs": [
    {
     "data": {
      "text/html": [
       "<div>\n",
       "<style scoped>\n",
       "    .dataframe tbody tr th:only-of-type {\n",
       "        vertical-align: middle;\n",
       "    }\n",
       "\n",
       "    .dataframe tbody tr th {\n",
       "        vertical-align: top;\n",
       "    }\n",
       "\n",
       "    .dataframe thead th {\n",
       "        text-align: right;\n",
       "    }\n",
       "</style>\n",
       "<table border=\"1\" class=\"dataframe\">\n",
       "  <thead>\n",
       "    <tr style=\"text-align: right;\">\n",
       "      <th></th>\n",
       "      <th>gender</th>\n",
       "      <th>age</th>\n",
       "      <th>hypertension</th>\n",
       "      <th>heart_disease</th>\n",
       "      <th>smoking_history</th>\n",
       "      <th>bmi</th>\n",
       "      <th>HbA1c_level</th>\n",
       "      <th>blood_glucose_level</th>\n",
       "      <th>diabetes</th>\n",
       "    </tr>\n",
       "  </thead>\n",
       "  <tbody>\n",
       "    <tr>\n",
       "      <th>0</th>\n",
       "      <td>Female</td>\n",
       "      <td>80.0</td>\n",
       "      <td>0</td>\n",
       "      <td>1</td>\n",
       "      <td>never</td>\n",
       "      <td>25.19</td>\n",
       "      <td>6.6</td>\n",
       "      <td>140</td>\n",
       "      <td>0</td>\n",
       "    </tr>\n",
       "    <tr>\n",
       "      <th>1</th>\n",
       "      <td>Female</td>\n",
       "      <td>54.0</td>\n",
       "      <td>0</td>\n",
       "      <td>0</td>\n",
       "      <td>No Info</td>\n",
       "      <td>27.32</td>\n",
       "      <td>6.6</td>\n",
       "      <td>80</td>\n",
       "      <td>0</td>\n",
       "    </tr>\n",
       "    <tr>\n",
       "      <th>2</th>\n",
       "      <td>Male</td>\n",
       "      <td>28.0</td>\n",
       "      <td>0</td>\n",
       "      <td>0</td>\n",
       "      <td>never</td>\n",
       "      <td>27.32</td>\n",
       "      <td>5.7</td>\n",
       "      <td>158</td>\n",
       "      <td>0</td>\n",
       "    </tr>\n",
       "  </tbody>\n",
       "</table>\n",
       "</div>"
      ],
      "text/plain": [
       "   gender   age  hypertension  heart_disease smoking_history    bmi  \\\n",
       "0  Female  80.0             0              1           never  25.19   \n",
       "1  Female  54.0             0              0         No Info  27.32   \n",
       "2    Male  28.0             0              0           never  27.32   \n",
       "\n",
       "   HbA1c_level  blood_glucose_level  diabetes  \n",
       "0          6.6                  140         0  \n",
       "1          6.6                   80         0  \n",
       "2          5.7                  158         0  "
      ]
     },
     "execution_count": 19,
     "metadata": {},
     "output_type": "execute_result"
    }
   ],
   "source": [
    "df.head(3)"
   ]
  },
  {
   "cell_type": "code",
   "execution_count": 20,
   "id": "ed4d6d8f-9db9-4d9b-b4a3-adf826cf32ef",
   "metadata": {
    "scrolled": true
   },
   "outputs": [
    {
     "data": {
      "text/plain": [
       "gender                  object\n",
       "age                    float64\n",
       "hypertension             int64\n",
       "heart_disease            int64\n",
       "smoking_history         object\n",
       "bmi                    float64\n",
       "HbA1c_level            float64\n",
       "blood_glucose_level      int64\n",
       "diabetes                 int64\n",
       "dtype: object"
      ]
     },
     "execution_count": 20,
     "metadata": {},
     "output_type": "execute_result"
    }
   ],
   "source": [
    "df.dtypes"
   ]
  },
  {
   "cell_type": "markdown",
   "id": "57571c7c-5a5e-4a5c-9fb4-577499190f75",
   "metadata": {},
   "source": [
    "#### Duplicates  "
   ]
  },
  {
   "cell_type": "code",
   "execution_count": 31,
   "id": "b7e210ec-c10c-4542-a5eb-2512067d73fd",
   "metadata": {},
   "outputs": [
    {
     "name": "stdout",
     "output_type": "stream",
     "text": [
      "number of duplicate rows:  (3854, 9)\n",
      "Shape of df after removal (96146, 9)\n"
     ]
    }
   ],
   "source": [
    "duplicate_rows_data = df[df.duplicated()]\n",
    "print(\"number of duplicate rows: \", duplicate_rows_data.shape)\n",
    "df = df.drop_duplicates()\n",
    "print('Shape of df after removal', df.shape)"
   ]
  },
  {
   "cell_type": "markdown",
   "id": "eff7598c-4a1b-4438-bec8-eee037c86834",
   "metadata": {},
   "source": [
    "#### Observe  \n",
    "- We have 2 categorical features: `gender` and `smoking_history`"
   ]
  },
  {
   "cell_type": "code",
   "execution_count": 22,
   "id": "92dba4d1-1a03-4761-8f6e-f0cc28394eee",
   "metadata": {},
   "outputs": [
    {
     "data": {
      "text/html": [
       "<div>\n",
       "<style scoped>\n",
       "    .dataframe tbody tr th:only-of-type {\n",
       "        vertical-align: middle;\n",
       "    }\n",
       "\n",
       "    .dataframe tbody tr th {\n",
       "        vertical-align: top;\n",
       "    }\n",
       "\n",
       "    .dataframe thead th {\n",
       "        text-align: right;\n",
       "    }\n",
       "</style>\n",
       "<table border=\"1\" class=\"dataframe\">\n",
       "  <thead>\n",
       "    <tr style=\"text-align: right;\">\n",
       "      <th></th>\n",
       "      <th>age</th>\n",
       "      <th>hypertension</th>\n",
       "      <th>heart_disease</th>\n",
       "      <th>bmi</th>\n",
       "      <th>HbA1c_level</th>\n",
       "      <th>blood_glucose_level</th>\n",
       "      <th>diabetes</th>\n",
       "    </tr>\n",
       "  </thead>\n",
       "  <tbody>\n",
       "    <tr>\n",
       "      <th>count</th>\n",
       "      <td>100000.000000</td>\n",
       "      <td>100000.00000</td>\n",
       "      <td>100000.000000</td>\n",
       "      <td>100000.000000</td>\n",
       "      <td>100000.000000</td>\n",
       "      <td>100000.000000</td>\n",
       "      <td>100000.000000</td>\n",
       "    </tr>\n",
       "    <tr>\n",
       "      <th>mean</th>\n",
       "      <td>41.885856</td>\n",
       "      <td>0.07485</td>\n",
       "      <td>0.039420</td>\n",
       "      <td>27.320767</td>\n",
       "      <td>5.527507</td>\n",
       "      <td>138.058060</td>\n",
       "      <td>0.085000</td>\n",
       "    </tr>\n",
       "    <tr>\n",
       "      <th>std</th>\n",
       "      <td>22.516840</td>\n",
       "      <td>0.26315</td>\n",
       "      <td>0.194593</td>\n",
       "      <td>6.636783</td>\n",
       "      <td>1.070672</td>\n",
       "      <td>40.708136</td>\n",
       "      <td>0.278883</td>\n",
       "    </tr>\n",
       "    <tr>\n",
       "      <th>min</th>\n",
       "      <td>0.080000</td>\n",
       "      <td>0.00000</td>\n",
       "      <td>0.000000</td>\n",
       "      <td>10.010000</td>\n",
       "      <td>3.500000</td>\n",
       "      <td>80.000000</td>\n",
       "      <td>0.000000</td>\n",
       "    </tr>\n",
       "    <tr>\n",
       "      <th>25%</th>\n",
       "      <td>24.000000</td>\n",
       "      <td>0.00000</td>\n",
       "      <td>0.000000</td>\n",
       "      <td>23.630000</td>\n",
       "      <td>4.800000</td>\n",
       "      <td>100.000000</td>\n",
       "      <td>0.000000</td>\n",
       "    </tr>\n",
       "    <tr>\n",
       "      <th>50%</th>\n",
       "      <td>43.000000</td>\n",
       "      <td>0.00000</td>\n",
       "      <td>0.000000</td>\n",
       "      <td>27.320000</td>\n",
       "      <td>5.800000</td>\n",
       "      <td>140.000000</td>\n",
       "      <td>0.000000</td>\n",
       "    </tr>\n",
       "    <tr>\n",
       "      <th>75%</th>\n",
       "      <td>60.000000</td>\n",
       "      <td>0.00000</td>\n",
       "      <td>0.000000</td>\n",
       "      <td>29.580000</td>\n",
       "      <td>6.200000</td>\n",
       "      <td>159.000000</td>\n",
       "      <td>0.000000</td>\n",
       "    </tr>\n",
       "    <tr>\n",
       "      <th>max</th>\n",
       "      <td>80.000000</td>\n",
       "      <td>1.00000</td>\n",
       "      <td>1.000000</td>\n",
       "      <td>95.690000</td>\n",
       "      <td>9.000000</td>\n",
       "      <td>300.000000</td>\n",
       "      <td>1.000000</td>\n",
       "    </tr>\n",
       "  </tbody>\n",
       "</table>\n",
       "</div>"
      ],
      "text/plain": [
       "                 age  hypertension  heart_disease            bmi  \\\n",
       "count  100000.000000  100000.00000  100000.000000  100000.000000   \n",
       "mean       41.885856       0.07485       0.039420      27.320767   \n",
       "std        22.516840       0.26315       0.194593       6.636783   \n",
       "min         0.080000       0.00000       0.000000      10.010000   \n",
       "25%        24.000000       0.00000       0.000000      23.630000   \n",
       "50%        43.000000       0.00000       0.000000      27.320000   \n",
       "75%        60.000000       0.00000       0.000000      29.580000   \n",
       "max        80.000000       1.00000       1.000000      95.690000   \n",
       "\n",
       "         HbA1c_level  blood_glucose_level       diabetes  \n",
       "count  100000.000000        100000.000000  100000.000000  \n",
       "mean        5.527507           138.058060       0.085000  \n",
       "std         1.070672            40.708136       0.278883  \n",
       "min         3.500000            80.000000       0.000000  \n",
       "25%         4.800000           100.000000       0.000000  \n",
       "50%         5.800000           140.000000       0.000000  \n",
       "75%         6.200000           159.000000       0.000000  \n",
       "max         9.000000           300.000000       1.000000  "
      ]
     },
     "execution_count": 22,
     "metadata": {},
     "output_type": "execute_result"
    }
   ],
   "source": [
    "df.describe()"
   ]
  },
  {
   "cell_type": "code",
   "execution_count": 32,
   "id": "4e5b9e6c-7068-4d55-b566-b5699bd0d724",
   "metadata": {},
   "outputs": [
    {
     "name": "stdout",
     "output_type": "stream",
     "text": [
      "categorical ['gender', 'smoking_history']\n",
      "numerical ['age', 'hypertension', 'heart_disease', 'bmi', 'HbA1c_level', 'blood_glucose_level', 'diabetes']\n"
     ]
    }
   ],
   "source": [
    "categorical_cols = df.select_dtypes(include=['object', 'category']).columns.tolist()\n",
    "numerical_cols = df.select_dtypes(exclude=['object', 'category']).columns.tolist()\n",
    "print('categorical', categorical_cols)\n",
    "print('numerical', numerical_cols)\n"
   ]
  },
  {
   "cell_type": "markdown",
   "id": "7703b66c-11e0-4a31-b4c9-90d9494d5fe3",
   "metadata": {},
   "source": [
    "#### Check unique values"
   ]
  },
  {
   "cell_type": "code",
   "execution_count": 33,
   "id": "a7191e6e-190f-48aa-91b3-b09a3c6ece32",
   "metadata": {},
   "outputs": [
    {
     "data": {
      "text/plain": [
       "gender             3\n",
       "smoking_history    6\n",
       "dtype: int64"
      ]
     },
     "execution_count": 33,
     "metadata": {},
     "output_type": "execute_result"
    }
   ],
   "source": [
    "df[categorical_cols].nunique()"
   ]
  },
  {
   "cell_type": "code",
   "execution_count": 35,
   "id": "805d8ad8-f35c-4342-a77a-818e2c67a9f9",
   "metadata": {},
   "outputs": [
    {
     "name": "stdout",
     "output_type": "stream",
     "text": [
      "['Female' 'Male' 'Other']\n",
      "['never' 'No Info' 'current' 'former' 'ever' 'not current']\n"
     ]
    }
   ],
   "source": [
    "print(df.gender.unique())\n",
    "print(df.smoking_history.unique())"
   ]
  },
  {
   "cell_type": "markdown",
   "id": "1acc3bd2-8f57-4334-ae7c-2b588d3e6e8d",
   "metadata": {},
   "source": [
    "#### Analysis\n",
    "* There are only 2 genders, so we can get rid of all the rows with *Other*\n",
    "* We can separate the smokers into: *never, no_info, current, former*"
   ]
  },
  {
   "cell_type": "code",
   "execution_count": 42,
   "id": "b806f5a5-5566-4da9-ae3f-e495cf8f1735",
   "metadata": {},
   "outputs": [
    {
     "data": {
      "text/plain": [
       "18"
      ]
     },
     "execution_count": 42,
     "metadata": {},
     "output_type": "execute_result"
    }
   ],
   "source": [
    "# 18 is small number, we can just remove them\n",
    "len(df[df.gender == 'Other'])"
   ]
  },
  {
   "cell_type": "code",
   "execution_count": 45,
   "id": "d71e923e-1b38-48a5-ac02-5d42797d71e9",
   "metadata": {},
   "outputs": [],
   "source": [
    "df = df[df.gender != 'Other']"
   ]
  },
  {
   "cell_type": "code",
   "execution_count": 46,
   "id": "0dda8a23-8c81-4242-91d1-fa9b55a2e4b8",
   "metadata": {},
   "outputs": [
    {
     "data": {
      "text/plain": [
       "(96128, 9)"
      ]
     },
     "execution_count": 46,
     "metadata": {},
     "output_type": "execute_result"
    }
   ],
   "source": [
    "df.shape"
   ]
  },
  {
   "cell_type": "code",
   "execution_count": 47,
   "id": "e36abf82-9207-4955-bb1c-dc99816e8496",
   "metadata": {},
   "outputs": [
    {
     "name": "stdout",
     "output_type": "stream",
     "text": [
      "['Female' 'Male']\n"
     ]
    }
   ],
   "source": [
    "print(df.gender.unique())"
   ]
  },
  {
   "cell_type": "markdown",
   "id": "a6deebd2-554a-44b4-bd1c-182b32f946c7",
   "metadata": {},
   "source": [
    "#### Encoding smokers using dict"
   ]
  },
  {
   "cell_type": "code",
   "execution_count": 48,
   "id": "842b5834-a562-44ea-896b-dca4656db36a",
   "metadata": {},
   "outputs": [],
   "source": [
    "encoding_dict = {\n",
    "    'never': 'never_smoke',\n",
    "    'No Info': 'no_info',\n",
    "    'current': 'smoke',\n",
    "    'former': 'former',\n",
    "    'ever': 'never_smoke',\n",
    "    'not current': 'former'\n",
    "}"
   ]
  },
  {
   "cell_type": "code",
   "execution_count": 50,
   "id": "03b21f4e-2000-4764-9d05-6af406517753",
   "metadata": {},
   "outputs": [],
   "source": [
    "df['smoking_history'].replace(encoding_dict, inplace=True)"
   ]
  },
  {
   "cell_type": "code",
   "execution_count": 51,
   "id": "82c29a17-6180-44d7-a2ee-5993dd242083",
   "metadata": {},
   "outputs": [
    {
     "name": "stdout",
     "output_type": "stream",
     "text": [
      "['never_smoke' 'no_info' 'smoke' 'former']\n"
     ]
    }
   ],
   "source": [
    "print(df.smoking_history.unique())"
   ]
  },
  {
   "cell_type": "code",
   "execution_count": 52,
   "id": "83145457-bb09-41cf-818a-5b6c5947f7ea",
   "metadata": {},
   "outputs": [
    {
     "data": {
      "text/plain": [
       "(96128, 9)"
      ]
     },
     "execution_count": 52,
     "metadata": {},
     "output_type": "execute_result"
    }
   ],
   "source": [
    "df.shape"
   ]
  },
  {
   "cell_type": "markdown",
   "id": "df90fc91-2193-4b65-8ff6-8b7f96049991",
   "metadata": {},
   "source": [
    "#### Missing values"
   ]
  },
  {
   "cell_type": "code",
   "execution_count": 53,
   "id": "f5f015bd-1a57-434e-83d2-bda378011a54",
   "metadata": {},
   "outputs": [
    {
     "data": {
      "text/plain": [
       "gender                 0\n",
       "age                    0\n",
       "hypertension           0\n",
       "heart_disease          0\n",
       "smoking_history        0\n",
       "bmi                    0\n",
       "HbA1c_level            0\n",
       "blood_glucose_level    0\n",
       "diabetes               0\n",
       "dtype: int64"
      ]
     },
     "execution_count": 53,
     "metadata": {},
     "output_type": "execute_result"
    }
   ],
   "source": [
    "df.isnull().sum()"
   ]
  },
  {
   "cell_type": "markdown",
   "id": "482133e3-675d-4855-8d5d-fda93f7fb91a",
   "metadata": {},
   "source": [
    "#### Labels"
   ]
  },
  {
   "cell_type": "code",
   "execution_count": 55,
   "id": "bc2283e5-0cdd-4dbd-9798-d86c79e65394",
   "metadata": {},
   "outputs": [
    {
     "data": {
      "text/plain": [
       "2"
      ]
     },
     "execution_count": 55,
     "metadata": {},
     "output_type": "execute_result"
    }
   ],
   "source": [
    "df.diabetes.nunique()"
   ]
  },
  {
   "cell_type": "markdown",
   "id": "411664f5-2ad7-4cc2-b10b-d8c2d2302041",
   "metadata": {},
   "source": [
    "## Univariate Analysis\n",
    "Helps us decide on the relevance and type of data prep needed. For numeric features we use historgram for categorical bar plots."
   ]
  },
  {
   "cell_type": "code",
   "execution_count": 56,
   "id": "273b9fee-d4ce-4d31-83e8-8f42fd02b8a1",
   "metadata": {},
   "outputs": [
    {
     "data": {
      "image/png": "[encoded data removed]",
      "text/plain": [
       "<Figure size 640x480 with 1 Axes>"
      ]
     },
     "metadata": {},
     "output_type": "display_data"
    }
   ],
   "source": [
    "# Histogram for age\n",
    "plt.hist(df['age'], bins=30, edgecolor='black')\n",
    "plt.title('Age Distribution')\n",
    "plt.xlabel('Age')\n",
    "plt.ylabel('Count')\n",
    "plt.show()"
   ]
  },
  {
   "cell_type": "code",
   "execution_count": null,
   "id": "75b30c28-5756-45a9-bf86-769b539cd778",
   "metadata": {},
   "outputs": [],
   "source": []
  },
  {
   "cell_type": "code",
   "execution_count": null,
   "id": "7018f4df-7276-412a-b414-ff62f33421b0",
   "metadata": {},
   "outputs": [],
   "source": []
  },
  {
   "cell_type": "code",
   "execution_count": null,
   "id": "638ae809-28ca-496d-9801-10290188a979",
   "metadata": {},
   "outputs": [],
   "source": []
  },
  {
   "cell_type": "code",
   "execution_count": null,
   "id": "1714af04-b180-4fc6-a083-2527395bea29",
   "metadata": {},
   "outputs": [],
   "source": [
    "\n",
    "\n",
    "def preprocess_data(df: pd.DataFrame) -> (pd.DataFrame, pd.Series):\n",
    "    \"\"\"\n",
    "    Preprocess the given data by handling duplicates, and separating the target column.\n",
    "    \n",
    "    Parameters:\n",
    "    - df (pd.DataFrame): The input data to be preprocessed.\n",
    "    \n",
    "    Returns:\n",
    "    - pd.DataFrame: The preprocessed data.\n",
    "    - pd.Series: The target column values.\n",
    "    \"\"\"\n",
    "    \n",
    "    # Handling duplicates\n",
    "    df = df.drop_duplicates()\n",
    "\n",
    "    # Drop rows where gender is 'Other'\n",
    "    df = df[df['gender'] != 'Other']\n",
    "\n",
    "    # Recategorize the 'smoking_history' column\n",
    "    def recategorize_smoking_status(smoking_status: str) -> str:\n",
    "        \"\"\"Recategorize smoking status based on given conditions.\"\"\"\n",
    "        mapping = {\n",
    "            'never': 'non_smoker',\n",
    "            'No Info': 'no_info',\n",
    "            'current': 'current',\n",
    "            'ever': 'past_smoker',\n",
    "            'former': 'past_smoker',\n",
    "            'not current': 'past_smoker'\n",
    "        }\n",
    "        return mapping.get(smoking_status, smoking_status)\n",
    "\n",
    "    df['smoking_history'] = df['smoking_history'].apply(recategorize_smoking_status)\n",
    "\n",
    "    # Separate the target column\n",
    "    target = 'diabetes'\n",
    "    y = df[target].copy()\n",
    "    df.drop(target, axis=1, inplace=True)\n",
    "\n",
    "    return df, y\n",
    "\n",
    "\n",
    "\n",
    "\n",
    "def train_optimized_model(study, dtrain, y_train, dvalid, y_val):\n",
    "    \"\"\"\n",
    "    Train an XGBoost classifier using the best parameters from a given study.\n",
    "    \n",
    "    Parameters:\n",
    "    - study: Optuna study object with optimization results.\n",
    "    - train_data, val_data: Training and validation data.\n",
    "    - y_train, y_val: Training and validation labels.\n",
    "    \"\"\"\n",
    "    \n",
    "    # dtrain = xgb.DMatrix(X_train, label=y_train)\n",
    "    # dvalid = xgb.DMatrix(X_val, label=y_val)\n",
    "    \n",
    "    with mlflow.start_run():\n",
    "        \n",
    "        constant_params = {\n",
    "            \"objective\": \"binary:logistic\"}\n",
    "\n",
    "        # Combine constant and hyperopt parameters\n",
    "        combined_params = {**study.best_params, **constant_params}\n",
    "        mlflow.log_params(combined_params)\n",
    "\n",
    "        classifier = xgb.train(\n",
    "            combined_params,\n",
    "            dtrain,\n",
    "            evals=[(dvalid, \"validation\")],\n",
    "            verbose_eval=1,\n",
    "            early_stopping_rounds=10,\n",
    "            num_boost_round=1000\n",
    "        )\n",
    "        \n",
    "        y_pred_proba = classifier.predict(dvalid)\n",
    "        y_pred = (y_pred_proba > 0.5).astype(int)\n",
    "        \n",
    "        f1_metric = f1_score(y_val, y_pred)\n",
    "        print(f'F1 Score: {f1_metric}')\n",
    "\n",
    "        mlflow.log_metric(\"f1\", f1_metric)\n",
    "        mlflow.sklearn.log_model(classifier, artifact_path=\"models_mlflow\")\n",
    "\n",
    "        print(f\"Default artifacts URI: '{mlflow.get_artifact_uri()}'\")\n",
    "\n",
    "        \n",
    "\n",
    "def predict(run_id):\n",
    "\n",
    "    # RUN_ID = '956c7d6a75d24c76b06606eeec98fd86'\n",
    "    model_uri = f'runs:/{run_id}/models_mlflow'\n",
    "\n",
    "    # Load model as a PyFuncModel.\n",
    "    loaded_model = mlflow.pyfunc.load_model(model_uri)\n",
    "    # loaded_model = mlflow.xgboost.load_model(model_uri)\n",
    "\n",
    "\n",
    "    y_pred_proba = loaded_model.predict(dvalid)\n",
    "    y_pred = (y_pred_proba > 0.5).astype(int)\n",
    "    f1 = f1_score(y_val, y_pred)\n",
    "    print('F1 Score: ',f1)\n",
    "\n",
    "    return y_pred\n",
    "\n",
    "\n",
    "def train_pipeline():\n",
    "    df_original = download_data(url=DATA_LINK)\n",
    "    df = df_original.copy()\n",
    "\n",
    "    # preprocess data\n",
    "    df, y = preprocess_data(df)\n",
    "\n",
    "    # data split\n",
    "    df_train, df_val, df_test, y_train, y_val, y_test = split_data(df, y)\n",
    "\n",
    "    mlflow.set_tracking_uri(MLFLOW_TRACKING_URI)\n",
    "    print(mlflow.get_tracking_uri())\n",
    "    # set an experiment, if it doesnt exist create one\n",
    "    mlflow.set_experiment(experiment_name='final-experiment')\n",
    "\n",
    "        # features\n",
    "    categorical_cols = df.select_dtypes(include=['object', 'category']).columns.tolist()\n",
    "    numerical_cols = df.select_dtypes(exclude=['object', 'category']).columns.tolist()\n",
    "    all_features = categorical_cols + numerical_cols\n",
    "\n",
    "    # one-hot encoding categorical features\n",
    "    dv = DictVectorizer()\n",
    "    train_dicts = df_train[all_features].to_dict(orient='records')\n",
    "    X_train = dv.fit_transform(train_dicts)\n",
    "\n",
    "    val_dicts = df_val[all_features].to_dict(orient='records')\n",
    "    X_val = dv.transform(val_dicts)\n",
    "\n",
    "    os.makedirs(\"model\", exist_ok=True)\n",
    "    with open(\"model/preprocessor.b\", \"wb\") as f:\n",
    "        pickle.dump(dv, f)\n",
    "\n",
    "    dtrain = xgb.DMatrix(X_train, label=y_train)\n",
    "    dvalid = xgb.DMatrix(X_val, label=y_val)\n",
    "\n",
    "    study = optimize_params(dtrain, y_train, dvalid, y_val, n_trials=2)\n",
    "\n",
    "\n",
    "\n",
    "    # train best model\n",
    "    train_optimized_model(study, dtrain, y_train, dvalid, y_val)\n",
    "\n",
    "\n",
    "\n",
    "\n",
    "\n",
    "\n"
   ]
  }
 ],
 "metadata": {
  "kernelspec": {
   "display_name": "Python 3 (ipykernel)",
   "language": "python",
   "name": "python3"
  },
  "language_info": {
   "codemirror_mode": {
    "name": "ipython",
    "version": 3
   },
   "file_extension": ".py",
   "mimetype": "text/x-python",
   "name": "python",
   "nbconvert_exporter": "python",
   "pygments_lexer": "ipython3",
   "version": "3.9.18"
  }
 },
 "nbformat": 4,
 "nbformat_minor": 5
}
